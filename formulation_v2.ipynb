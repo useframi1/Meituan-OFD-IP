{
 "cells": [
  {
   "cell_type": "code",
   "execution_count": 180,
   "metadata": {},
   "outputs": [],
   "source": [
    "from gurobipy import Model, GRB, quicksum\n",
    "import math"
   ]
  },
  {
   "cell_type": "code",
   "execution_count": 181,
   "metadata": {},
   "outputs": [],
   "source": [
    "model = Model(\"Courier_Assignment_MultiObjective\")"
   ]
  },
  {
   "cell_type": "code",
   "execution_count": 182,
   "metadata": {},
   "outputs": [],
   "source": [
    "# Periods\n",
    "T = [1]  # Periods\n",
    "\n",
    "# Orders per period\n",
    "O_t = {1: [1, 2, 3]}\n",
    "\n",
    "# Couriers per period\n",
    "C_t = {1: [1, 2]}\n",
    "\n",
    "# Add parameter `a`\n",
    "a = {\n",
    "    (i, j, t): (\n",
    "        1 if (j % 2 == 0) else 0\n",
    "    )  # even couriers always accept, odd never accept\n",
    "    for t in T\n",
    "    for i in O_t[t]\n",
    "    for j in C_t[t]\n",
    "}\n",
    "\n",
    "# Preparation times for orders\n",
    "prep_time = {1: 10, 2: 15, 3: 20}\n",
    "\n",
    "# Arrival times for couriers (i,j,t):time\n",
    "courier_arrival_time = {\n",
    "    (1, 1, 1): 20,\n",
    "    (2, 1, 1): 12,\n",
    "    (3, 1, 1): 18,\n",
    "    (1, 2, 1): 10,\n",
    "    (2, 2, 1): 14,\n",
    "    (3, 2, 1): 8,\n",
    "}\n",
    "\n",
    "# Locations of orders\n",
    "order_location = {\n",
    "    1: (0, 0),\n",
    "    2: (1, 1),\n",
    "    3: (2, 2),\n",
    "}\n",
    "\n",
    "# Start locations of couriers\n",
    "courier_start_location = {\n",
    "    1: (5, 4),\n",
    "    2: (1, 0),\n",
    "}"
   ]
  },
  {
   "cell_type": "code",
   "execution_count": 183,
   "metadata": {},
   "outputs": [],
   "source": [
    "# Distance function\n",
    "def distance(i, j):\n",
    "    ox, oy = order_location[i]\n",
    "    cx, cy = courier_start_location[j]\n",
    "    return math.sqrt((ox - cx) ** 2 + (oy - cy) ** 2)"
   ]
  },
  {
   "cell_type": "code",
   "execution_count": 184,
   "metadata": {},
   "outputs": [],
   "source": [
    "# Decision variables\n",
    "x = model.addVars(\n",
    "    [(i, j, t) for t in T for i in O_t[t] for j in C_t[t]],\n",
    "    vtype=GRB.BINARY,\n",
    "    name=\"x\",\n",
    ")"
   ]
  },
  {
   "cell_type": "code",
   "execution_count": 185,
   "metadata": {},
   "outputs": [],
   "source": [
    "# Workload\n",
    "workload = {\n",
    "    j: quicksum(x[i, j, t] for t in T for i in O_t[t] if (i, j, t) in x)\n",
    "    for j in set(j for t in T for j in C_t[t])\n",
    "}\n",
    "\n",
    "# Mean workload\n",
    "mean_workload = quicksum(workload[j] for j in workload) / len(workload)\n",
    "\n",
    "# Auxiliary variables for workload imbalance\n",
    "y = model.addVars(workload.keys(), lb=0, name=\"y\")"
   ]
  },
  {
   "cell_type": "code",
   "execution_count": 186,
   "metadata": {},
   "outputs": [],
   "source": [
    "# Objectives\n",
    "waiting_time_objective = quicksum(\n",
    "    abs(prep_time[i] - courier_arrival_time[i, j, t]) * x[i, j, t]\n",
    "    for t in T\n",
    "    for i in O_t[t]\n",
    "    for j in C_t[t]\n",
    ")\n",
    "distance_objective = quicksum(\n",
    "    distance(i, j) * x[i, j, t] for t in T for i in O_t[t] for j in C_t[t]\n",
    ")\n",
    "workload_imbalance_objective = quicksum(y[j] for j in workload)\n",
    "\n",
    "# Add objectives\n",
    "model.setObjectiveN(\n",
    "    waiting_time_objective, index=0, priority=1, name=\"MinimizeWaitingTime\"\n",
    ")\n",
    "model.setObjectiveN(distance_objective, index=1, priority=1, name=\"MinimizeDistance\")\n",
    "model.setObjectiveN(\n",
    "    workload_imbalance_objective, index=2, priority=1, name=\"MinimizeWorkloadImbalance\"\n",
    ")"
   ]
  },
  {
   "cell_type": "code",
   "execution_count": 187,
   "metadata": {},
   "outputs": [],
   "source": [
    "# Constraints\n",
    "for t in T:\n",
    "    for i in O_t[t]:\n",
    "        model.addConstr(\n",
    "            quicksum(x[i, j, t] for j in C_t[t]) == 1, name=f\"assign_{i}_{t}\"\n",
    "        )\n",
    "\n",
    "for t in T:\n",
    "    for i in O_t[t]:\n",
    "        for j in C_t[t]:\n",
    "            model.addConstr(x[i, j, t] <= a[i, j, t], name=f\"acceptance_{i}_{j}_{t}\")\n",
    "\n",
    "for j in workload:\n",
    "    model.addConstr(y[j] >= workload[j] - mean_workload, name=f\"abs_dev_pos_{j}\")\n",
    "    model.addConstr(y[j] >= mean_workload - workload[j], name=f\"abs_dev_neg_{j}\")"
   ]
  },
  {
   "cell_type": "code",
   "execution_count": 188,
   "metadata": {},
   "outputs": [
    {
     "name": "stdout",
     "output_type": "stream",
     "text": [
      "Gurobi Optimizer version 12.0.0 build v12.0.0rc1 (mac64[arm] - Darwin 24.1.0 24B91)\n",
      "\n",
      "CPU model: Apple M1 Pro\n",
      "Thread count: 8 physical cores, 8 logical processors, using up to 8 threads\n",
      "\n",
      "Optimize a model with 13 rows, 8 columns and 40 nonzeros\n",
      "Model fingerprint: 0x423654dd\n",
      "Variable types: 2 continuous, 6 integer (6 binary)\n",
      "Coefficient statistics:\n",
      "  Matrix range     [5e-01, 1e+00]\n",
      "  Objective range  [1e+00, 1e+01]\n",
      "  Bounds range     [1e+00, 1e+00]\n",
      "  RHS range        [1e+00, 1e+00]\n",
      "\n",
      "---------------------------------------------------------------------------\n",
      "Multi-objectives: starting optimization with 3 objectives (1 combined)...\n",
      "---------------------------------------------------------------------------\n",
      "---------------------------------------------------------------------------\n",
      "\n",
      "Multi-objectives: optimize objective 1 (weighted) ...\n",
      "---------------------------------------------------------------------------\n",
      "\n",
      "Optimize a model with 13 rows, 8 columns and 40 nonzeros\n",
      "Model fingerprint: 0xefb896bc\n",
      "Variable types: 2 continuous, 6 integer (6 binary)\n",
      "Coefficient statistics:\n",
      "  Matrix range     [5e-01, 1e+00]\n",
      "  Objective range  [1e+00, 2e+01]\n",
      "  Bounds range     [1e+00, 1e+00]\n",
      "  RHS range        [1e+00, 1e+00]\n",
      "Presolve removed 13 rows and 8 columns\n",
      "Presolve time: 0.00s\n",
      "Presolve: All rows and columns removed\n",
      "\n",
      "Explored 0 nodes (0 simplex iterations) in 0.01 seconds (0.00 work units)\n",
      "Thread count was 1 (of 8 available processors)\n",
      "\n",
      "Solution count 1: 20.2361 \n",
      "\n",
      "Optimal solution found (tolerance 1.00e-04)\n",
      "Best objective 2.023606797750e+01, best bound 2.023606797750e+01, gap 0.0000%\n",
      "\n",
      "---------------------------------------------------------------------------\n",
      "Multi-objectives: solved in 0.01 seconds (0.00 work units), solution count 1\n",
      "\n"
     ]
    }
   ],
   "source": [
    "# Optimize the model\n",
    "model.optimize()"
   ]
  },
  {
   "cell_type": "code",
   "execution_count": 189,
   "metadata": {},
   "outputs": [
    {
     "name": "stdout",
     "output_type": "stream",
     "text": [
      "\n",
      "Objective Values:\n",
      "Total Waiting Time: 13.0\n",
      "Total Distance Traveled: 4.23606797749979\n",
      "Workload Imbalance: 3.0\n",
      "\n",
      "Assignments:\n",
      "Order 1 is assigned to Courier 2 in Time Period 1\n",
      "Order 2 is assigned to Courier 2 in Time Period 1\n",
      "Order 3 is assigned to Courier 2 in Time Period 1\n"
     ]
    }
   ],
   "source": [
    "print(\"\\nObjective Values:\")\n",
    "print(f\"Total Waiting Time: {waiting_time_objective.getValue()}\")\n",
    "print(f\"Total Distance Traveled: {distance_objective.getValue()}\")\n",
    "print(f\"Workload Imbalance: {workload_imbalance_objective.getValue()}\")\n",
    "\n",
    "# Print assignment results\n",
    "print(\"\\nAssignments:\")\n",
    "for t in T:\n",
    "    for i in O_t[t]:\n",
    "        for j in C_t[t]:\n",
    "            if x[i, j, t].x == 1:  # Check if variable is assigned\n",
    "                print(f\"Order {i} is assigned to Courier {j} in Time Period {t}\")"
   ]
  }
 ],
 "metadata": {
  "kernelspec": {
   "display_name": "Python 3",
   "language": "python",
   "name": "python3"
  },
  "language_info": {
   "codemirror_mode": {
    "name": "ipython",
    "version": 3
   },
   "file_extension": ".py",
   "mimetype": "text/x-python",
   "name": "python",
   "nbconvert_exporter": "python",
   "pygments_lexer": "ipython3",
   "version": "3.12.0"
  }
 },
 "nbformat": 4,
 "nbformat_minor": 2
}
