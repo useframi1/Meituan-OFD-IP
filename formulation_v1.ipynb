{
 "cells": [
  {
   "cell_type": "code",
   "execution_count": 42,
   "metadata": {},
   "outputs": [],
   "source": [
    "import gurobipy as gp\n",
    "from gurobipy import GRB"
   ]
  },
  {
   "cell_type": "code",
   "execution_count": 43,
   "metadata": {},
   "outputs": [],
   "source": [
    "# Create a new model\n",
    "model = gp.Model(\"Courier_Assignment\")"
   ]
  },
  {
   "cell_type": "code",
   "execution_count": 44,
   "metadata": {},
   "outputs": [],
   "source": [
    "# Data\n",
    "T = [1, 2, 3]  # Periods\n",
    "O_t = {1: [1, 2, 3], 2: [4, 5, 6], 3: [7, 8, 9, 10]}  # Orders per period\n",
    "C_t = {1: [1, 2, 3], 2: [4, 5], 3: [6, 7, 8]}  # Couriers per period\n",
    "\n",
    "# Cost parameters (example values)\n",
    "waiting_cost = {\n",
    "    (1, 1): -2,\n",
    "    (1, 2): -1,\n",
    "    (1, 3): -3,\n",
    "    (2, 1): -2,\n",
    "    (2, 2): -1,\n",
    "    (2, 3): -3,\n",
    "    (3, 1): -2,\n",
    "    (3, 2): -1,\n",
    "    (3, 3): -3,\n",
    "    (4, 4): -2,\n",
    "    (4, 5): -1,\n",
    "    (5, 4): -2,\n",
    "    (5, 5): -1,\n",
    "    (6, 4): -2,\n",
    "    (6, 5): -1,\n",
    "    (7, 6): -2,\n",
    "    (7, 7): -1,\n",
    "    (7, 8): -3,\n",
    "    (8, 6): -2,\n",
    "    (8, 7): -1,\n",
    "    (8, 8): -3,\n",
    "    (9, 6): -2,\n",
    "    (9, 7): -1,\n",
    "    (9, 8): -3,\n",
    "    (10, 6): -2,\n",
    "    (10, 7): -1,\n",
    "    (10, 8): -3,\n",
    "}\n",
    "\n",
    "lateness_cost = {\n",
    "    (1, 1): 5,\n",
    "    (1, 2): 4,\n",
    "    (1, 3): 6,\n",
    "    (2, 1): 5,\n",
    "    (2, 2): 4,\n",
    "    (2, 3): 6,\n",
    "    (3, 1): 5,\n",
    "    (3, 2): 4,\n",
    "    (3, 3): 6,\n",
    "    (4, 4): 5,\n",
    "    (4, 5): 4,\n",
    "    (5, 4): 5,\n",
    "    (5, 5): 4,\n",
    "    (6, 4): 5,\n",
    "    (6, 5): 4,\n",
    "    (7, 6): 5,\n",
    "    (7, 7): 4,\n",
    "    (7, 8): 6,\n",
    "    (8, 6): 5,\n",
    "    (8, 7): 4,\n",
    "    (8, 8): 6,\n",
    "    (9, 6): 5,\n",
    "    (9, 7): 4,\n",
    "    (9, 8): 6,\n",
    "    (10, 6): 5,\n",
    "    (10, 7): 4,\n",
    "    (10, 8): 6,\n",
    "}\n",
    "\n",
    "# Service capacity of couriers\n",
    "u = {1: 3, 2: 3, 3: 3, 4: 3, 5: 3, 6: 3, 7: 3, 8: 3}\n",
    "\n",
    "# Maximum workable time length of couriers\n",
    "l = {1: 10, 2: 12, 3: 15, 4: 10, 5: 12, 6: 15, 7: 10, 8: 12}\n",
    "\n",
    "# Time consumption per order for couriers\n",
    "p = {1: 2, 2: 2.5, 3: 3, 4: 2.5, 5: 2.5, 6: 3.5, 7: 2.0, 8: 2.0}\n",
    "\n",
    "# Cost of assigning order i to courier j\n",
    "c = {\n",
    "    (i, j): waiting_cost.get((i, j), 0) + lateness_cost.get((i, j), 0)\n",
    "    for i in range(1, 11)\n",
    "    for j in range(1, 9)\n",
    "}"
   ]
  },
  {
   "cell_type": "code",
   "execution_count": 45,
   "metadata": {},
   "outputs": [],
   "source": [
    "# Decision variables\n",
    "x = model.addVars(\n",
    "    [(i, j, t) for t in T for i in O_t[t] for j in C_t[t]], vtype=GRB.BINARY, name=\"x\"\n",
    ")"
   ]
  },
  {
   "cell_type": "code",
   "execution_count": 46,
   "metadata": {},
   "outputs": [],
   "source": [
    "# Objective function\n",
    "model.setObjective(\n",
    "    gp.quicksum(c[(i, j)] * x[i, j, t] for t in T for i in O_t[t] for j in C_t[t]),\n",
    "    GRB.MINIMIZE,\n",
    ")"
   ]
  },
  {
   "cell_type": "code",
   "execution_count": 47,
   "metadata": {},
   "outputs": [
    {
     "data": {
      "text/plain": [
       "{(1, 1): <gurobi.Constr *Awaiting Model Update*>,\n",
       " (1, 2): <gurobi.Constr *Awaiting Model Update*>,\n",
       " (1, 3): <gurobi.Constr *Awaiting Model Update*>,\n",
       " (2, 4): <gurobi.Constr *Awaiting Model Update*>,\n",
       " (2, 5): <gurobi.Constr *Awaiting Model Update*>,\n",
       " (3, 6): <gurobi.Constr *Awaiting Model Update*>,\n",
       " (3, 7): <gurobi.Constr *Awaiting Model Update*>,\n",
       " (3, 8): <gurobi.Constr *Awaiting Model Update*>}"
      ]
     },
     "execution_count": 47,
     "metadata": {},
     "output_type": "execute_result"
    }
   ],
   "source": [
    "# Constraints\n",
    "# Each order must be assigned to exactly one courier\n",
    "model.addConstrs(\n",
    "    (gp.quicksum(x[i, j, t] for j in C_t[t]) == 1 for t in T for i in O_t[t]),\n",
    "    name=\"order_assignment\",\n",
    ")\n",
    "\n",
    "# The number of orders assigned to one courier cannot exceed their service capacity\n",
    "model.addConstrs(\n",
    "    (gp.quicksum(x[i, j, t] for i in O_t[t]) <= u[j] for t in T for j in C_t[t]),\n",
    "    name=\"service_capacity\",\n",
    ")\n",
    "\n",
    "# The maximum allowable work time cannot be violated\n",
    "model.addConstrs(\n",
    "    (p[j] * gp.quicksum(x[i, j, t] for i in O_t[t]) <= l[j] for t in T for j in C_t[t]),\n",
    "    name=\"work_time\",\n",
    ")"
   ]
  },
  {
   "cell_type": "code",
   "execution_count": 48,
   "metadata": {},
   "outputs": [
    {
     "name": "stdout",
     "output_type": "stream",
     "text": [
      "Gurobi Optimizer version 12.0.0 build v12.0.0rc1 (mac64[arm] - Darwin 24.1.0 24B91)\n",
      "\n",
      "CPU model: Apple M1 Pro\n",
      "Thread count: 8 physical cores, 8 logical processors, using up to 8 threads\n",
      "\n",
      "Optimize a model with 26 rows, 27 columns and 81 nonzeros\n",
      "Model fingerprint: 0x1a139644\n",
      "Variable types: 0 continuous, 27 integer (27 binary)\n",
      "Coefficient statistics:\n",
      "  Matrix range     [1e+00, 4e+00]\n",
      "  Objective range  [3e+00, 3e+00]\n",
      "  Bounds range     [1e+00, 1e+00]\n",
      "  RHS range        [1e+00, 2e+01]\n",
      "Found heuristic solution: objective 30.0000000\n",
      "Presolve removed 26 rows and 27 columns\n",
      "Presolve time: 0.00s\n",
      "Presolve: All rows and columns removed\n",
      "\n",
      "Explored 0 nodes (0 simplex iterations) in 0.00 seconds (0.00 work units)\n",
      "Thread count was 1 (of 8 available processors)\n",
      "\n",
      "Solution count 1: 30 \n",
      "\n",
      "Optimal solution found (tolerance 1.00e-04)\n",
      "Best objective 3.000000000000e+01, best bound 3.000000000000e+01, gap 0.0000%\n"
     ]
    }
   ],
   "source": [
    "# Optimize model\n",
    "model.optimize()"
   ]
  },
  {
   "cell_type": "code",
   "execution_count": 49,
   "metadata": {},
   "outputs": [
    {
     "name": "stdout",
     "output_type": "stream",
     "text": [
      "Optimal solution found:\n",
      "Total cost: 30.0\n",
      "\n",
      "Optimal assignment of orders to couriers:\n",
      "Order 1 in period 1 is assigned to courier 1\n",
      "Order 2 in period 1 is assigned to courier 1\n",
      "Order 3 in period 1 is assigned to courier 1\n",
      "Order 4 in period 2 is assigned to courier 5\n",
      "Order 5 in period 2 is assigned to courier 5\n",
      "Order 6 in period 2 is assigned to courier 5\n",
      "Order 7 in period 3 is assigned to courier 7\n",
      "Order 8 in period 3 is assigned to courier 6\n",
      "Order 9 in period 3 is assigned to courier 6\n",
      "Order 10 in period 3 is assigned to courier 6\n"
     ]
    }
   ],
   "source": [
    "# Print results\n",
    "if model.status == GRB.OPTIMAL:\n",
    "    print(\"Optimal solution found:\")\n",
    "    print(\"Total cost:\", model.ObjVal)\n",
    "    print(\"\\nOptimal assignment of orders to couriers:\")\n",
    "    for t in T:\n",
    "        for i in O_t[t]:\n",
    "            for j in C_t[t]:\n",
    "                if x[i, j, t].x > 0.5:\n",
    "                    print(f\"Order {i} in period {t} is assigned to courier {j}\")\n",
    "else:\n",
    "    print(\"No optimal solution found\")"
   ]
  }
 ],
 "metadata": {
  "kernelspec": {
   "display_name": "Python 3",
   "language": "python",
   "name": "python3"
  },
  "language_info": {
   "codemirror_mode": {
    "name": "ipython",
    "version": 3
   },
   "file_extension": ".py",
   "mimetype": "text/x-python",
   "name": "python",
   "nbconvert_exporter": "python",
   "pygments_lexer": "ipython3",
   "version": "3.12.0"
  }
 },
 "nbformat": 4,
 "nbformat_minor": 2
}
